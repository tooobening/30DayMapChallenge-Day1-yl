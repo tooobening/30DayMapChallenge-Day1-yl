{
 "cells": [
  {
   "cell_type": "code",
   "id": "c67063fbfd517577",
   "metadata": {
    "ExecuteTime": {
     "end_time": "2024-11-02T20:49:56.791985Z",
     "start_time": "2024-11-02T20:49:56.749145Z"
    }
   },
   "source": [
    "import requests\n",
    "import time\n",
    "from typing import Optional, Tuple, Dict, List\n",
    "from googlemaps import Client"
   ],
   "outputs": [],
   "execution_count": 1
  },
  {
   "metadata": {
    "ExecuteTime": {
     "end_time": "2024-11-02T20:58:49.579988Z",
     "start_time": "2024-11-02T20:58:49.569747Z"
    }
   },
   "cell_type": "code",
   "source": [
    "def test_nominatim_geocoding(address: str) -> Optional[Dict]:\n",
    "    \"\"\"Test geocoding with Nominatim\"\"\"\n",
    "    url = \"https://nominatim.openstreetmap.org/search\"\n",
    "    params = {\n",
    "        'q': address,\n",
    "        'format': 'json',\n",
    "        'limit': 1\n",
    "    }\n",
    "    headers = {\n",
    "        'User-Agent': 'Wisconsin Supper Clubs Mapping Project Test'\n",
    "    }\n",
    "    \n",
    "    try:\n",
    "        time.sleep(1)  # Respect Nominatim's rate limit\n",
    "        response = requests.get(url, params=params, headers=headers)\n",
    "        response.raise_for_status()\n",
    "        \n",
    "        results = response.json()\n",
    "        if results:\n",
    "            return {\n",
    "                'coordinates': (float(results[0]['lon']), float(results[0]['lat'])),\n",
    "                'display_name': results[0]['display_name'],\n",
    "                'type': results[0].get('type'),\n",
    "                'class': results[0].get('class')\n",
    "            }\n",
    "        return None\n",
    "        \n",
    "    except Exception as e:\n",
    "        print(f\"Nominatim error: {str(e)}\")\n",
    "        return None\n",
    "\n",
    "def test_google_geocoding(address: str, api_key: str) -> Optional[Dict]:\n",
    "    \"\"\"Test geocoding with Google Maps API\"\"\"\n",
    "    gmaps = Client(key=api_key)\n",
    "    \n",
    "    try:\n",
    "        result = gmaps.geocode(address)\n",
    "        \n",
    "        if result and len(result) > 0:\n",
    "            location = result[0]['geometry']['location']\n",
    "            return {\n",
    "                'coordinates': (location['lng'], location['lat']),\n",
    "                'formatted_address': result[0]['formatted_address'],\n",
    "                'place_id': result[0]['place_id'],\n",
    "                'types': result[0]['types'],\n",
    "                'address_components': result[0]['address_components']\n",
    "            }\n",
    "        return None\n",
    "        \n",
    "    except Exception as e:\n",
    "        print(f\"Google Maps error: {str(e)}\")\n",
    "        return None\n",
    "\n",
    "def compare_geocoding_results(address: str, api_key: str):\n",
    "    \"\"\"Compare results from both geocoding services\"\"\"\n",
    "    print(f\"\\nTesting address: {address}\")\n",
    "    print(\"-\" * 50) \n",
    "    # Test Nominatim\n",
    "    print(\"\\n1. Testing Nominatim:\")\n",
    "    nominatim_result = test_nominatim_geocoding(address)\n",
    "    \n",
    "    if nominatim_result:\n",
    "        print(\"✓ Success!\")\n",
    "        print(f\"Coordinates: {nominatim_result['coordinates']}\")\n",
    "        print(f\"Display Name: {nominatim_result['display_name']}\")\n",
    "        print(f\"Type: {nominatim_result['type']}\")\n",
    "        print(f\"Class: {nominatim_result['class']}\")\n",
    "    else:\n",
    "        print(\"✗ Failed to geocode with Nominatim\")\n",
    "    \n",
    "    # Test Google Maps\n",
    "    print(\"\\n2. Testing Google Maps:\")\n",
    "    google_result = test_google_geocoding(address, api_key)\n",
    "    \n",
    "    if google_result:\n",
    "        print(\"✓ Success!\")\n",
    "        print(f\"Coordinates: {google_result['coordinates']}\")\n",
    "        print(f\"Formatted Address: {google_result['formatted_address']}\")\n",
    "        print(f\"Place ID: {google_result['place_id']}\")\n",
    "        print(f\"Types: {google_result['types']}\")\n",
    "        print(\"\\nAddress Components:\")\n",
    "        for component in google_result['address_components']:\n",
    "            print(f\"  - {component['long_name']} ({', '.join(component['types'])})\")\n",
    "    else:\n",
    "        print(\"✗ Failed to geocode with Google Maps\")\n",
    "    \n",
    "    # Compare results if both succeeded\n",
    "    if nominatim_result and google_result:\n",
    "        print(\"\\n3. Comparison:\")\n",
    "        nom_coords = nominatim_result['coordinates']\n",
    "        google_coords = google_result['coordinates']\n",
    "        \n",
    "        # Calculate rough distance between points (this is a simplified calculation)\n",
    "        from math import sqrt\n",
    "        diff = sqrt((nom_coords[0] - google_coords[0])**2 + \n",
    "                   (nom_coords[1] - google_coords[1])**2)\n",
    "        \n",
    "        print(f\"Coordinate difference: {diff:.6f} degrees\")\n",
    "        print(f\"Nominatim display name: {nominatim_result['display_name']}\")\n",
    "        print(f\"Google display name: {google_result['formatted_address']}\")"
   ],
   "id": "4ca6e1b4218ea4be",
   "outputs": [],
   "execution_count": 3
  },
  {
   "metadata": {
    "ExecuteTime": {
     "end_time": "2024-11-02T20:58:51.850779Z",
     "start_time": "2024-11-02T20:58:50.019980Z"
    }
   },
   "cell_type": "code",
   "source": [
    "# Replace with your Google Maps API key\n",
    "GOOGLE_MAPS_API_KEY = 'YOUR_GOOGLE_MAPS_API_KEY'\n",
    "\n",
    "# Test address\n",
    "test_address = \"1380 Friess Lake Road Hubertus, WI\"\n",
    "\n",
    "# Run comparison\n",
    "compare_geocoding_results(test_address, GOOGLE_MAPS_API_KEY)"
   ],
   "id": "ca46e88b4aae2540",
   "outputs": [
    {
     "name": "stdout",
     "output_type": "stream",
     "text": [
      "\n",
      "Testing address: 1380 Friess Lake Road Hubertus, WI\n",
      "--------------------------------------------------\n",
      "\n",
      "1. Testing Nominatim:\n",
      "✗ Failed to geocode with Nominatim\n",
      "\n",
      "2. Testing Google Maps:\n",
      "✓ Success!\n",
      "Coordinates: (-88.2877987, 43.2389669)\n",
      "Formatted Address: 1380 Friess Lake Rd, Hubertus, WI 53033, USA\n",
      "Place ID: ChIJwXubeypSBIgRK15Ng8bo2sw\n",
      "Types: ['premise']\n",
      "\n",
      "Address Components:\n",
      "  - 1380 (street_number)\n",
      "  - Friess Lake Road (route)\n",
      "  - Hubertus (locality, political)\n",
      "  - Richfield (administrative_area_level_3, political)\n",
      "  - Washington County (administrative_area_level_2, political)\n",
      "  - Wisconsin (administrative_area_level_1, political)\n",
      "  - United States (country, political)\n",
      "  - 53033 (postal_code)\n",
      "  - 9751 (postal_code_suffix)\n"
     ]
    }
   ],
   "execution_count": 4
  },
  {
   "metadata": {},
   "cell_type": "code",
   "outputs": [],
   "execution_count": null,
   "source": "",
   "id": "4e79707db1b9da8a"
  }
 ],
 "metadata": {
  "kernelspec": {
   "display_name": "Python 3",
   "language": "python",
   "name": "python3"
  },
  "language_info": {
   "codemirror_mode": {
    "name": "ipython",
    "version": 2
   },
   "file_extension": ".py",
   "mimetype": "text/x-python",
   "name": "python",
   "nbconvert_exporter": "python",
   "pygments_lexer": "ipython2",
   "version": "2.7.6"
  }
 },
 "nbformat": 4,
 "nbformat_minor": 5
}
